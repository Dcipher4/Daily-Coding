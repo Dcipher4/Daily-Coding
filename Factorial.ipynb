{
  "nbformat": 4,
  "nbformat_minor": 0,
  "metadata": {
    "colab": {
      "provenance": [],
      "authorship_tag": "ABX9TyMBPn/wlyyO3rCNDnUQVbjm",
      "include_colab_link": true
    },
    "kernelspec": {
      "name": "python3",
      "display_name": "Python 3"
    },
    "language_info": {
      "name": "python"
    }
  },
  "cells": [
    {
      "cell_type": "markdown",
      "metadata": {
        "id": "view-in-github",
        "colab_type": "text"
      },
      "source": [
        "<a href=\"https://colab.research.google.com/github/Dcipher4/Daily-Coding/blob/main/Factorial.ipynb\" target=\"_parent\"><img src=\"https://colab.research.google.com/assets/colab-badge.svg\" alt=\"Open In Colab\"/></a>"
      ]
    },
    {
      "cell_type": "code",
      "execution_count": 2,
      "metadata": {
        "colab": {
          "base_uri": "https://localhost:8080/"
        },
        "id": "mCnbOgCuVWSp",
        "outputId": "46d4bddd-bc71-4846-a8f1-7e93b8bcbb7f"
      },
      "outputs": [
        {
          "output_type": "stream",
          "name": "stdout",
          "text": [
            "NO. of hour: 0\n",
            "NO. of mins: 0\n",
            "NO. of seconds: 5\n",
            "time's up\n"
          ]
        }
      ],
      "source": [
        "# factorial\n",
        "\n",
        "user_input1 = int(input(\"Enter your first number \"))\n",
        "user_input2 = int(input(\"Enter your Second number \"))\n",
        "user_input3 = int(input(\"Enter your Third number \"))\n",
        "\n",
        "# if user_input1> user_input2 and user_input1> user_input3:\n",
        "#     print(\"Number\", user_input1, \"is the highest\")\n",
        "# elif user_input2 > user_input1 and user_input2 > user_input3:\n",
        "#     print(\"Number\", user_input2, \" is the highest\")\n",
        "# else:\n",
        "#     print(\"Number\", user_input3, \"is the Highest\")\n",
        "if user_input1 > user_input2:\n",
        "    if user_input1 > user_input3:\n",
        "        print(\"Number\", user_input1, \"is the highest\")\n",
        "    else:\n",
        "        print(\"Number\", user_input3, \"is the highest\")\n",
        "else:\n",
        "    if user_input2 > user_input3:\n",
        "        print(\"Number\", user_input2, \"is the highest\")\n",
        "    else:\n",
        "        print(\"Number\", user_input3, \"is the highest\")"
      ]
    }
  ]
}