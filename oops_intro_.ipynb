{
  "nbformat": 4,
  "nbformat_minor": 0,
  "metadata": {
    "colab": {
      "provenance": [],
      "authorship_tag": "ABX9TyNJu9DOq2b1Ymye6nJ1xpdS",
      "include_colab_link": true
    },
    "kernelspec": {
      "name": "python3",
      "display_name": "Python 3"
    },
    "language_info": {
      "name": "python"
    }
  },
  "cells": [
    {
      "cell_type": "markdown",
      "metadata": {
        "id": "view-in-github",
        "colab_type": "text"
      },
      "source": [
        "<a href=\"https://colab.research.google.com/github/Dcipher4/Daily-Coding/blob/main/oops_intro_.ipynb\" target=\"_parent\"><img src=\"https://colab.research.google.com/assets/colab-badge.svg\" alt=\"Open In Colab\"/></a>"
      ]
    },
    {
      "cell_type": "code",
      "execution_count": 1,
      "metadata": {
        "colab": {
          "base_uri": "https://localhost:8080/"
        },
        "id": "vYJoZ35fWpS2",
        "outputId": "361a12b1-1883-4146-87f4-64ca6d6b10b4"
      },
      "outputs": [
        {
          "output_type": "stream",
          "name": "stdout",
          "text": [
            "Ekus is a Business Owner\n",
            "Harshit is a Chartered Accountant\n"
          ]
        }
      ],
      "source": [
        "# Defining a Person class - this is a blueprint for creating person objects\n",
        "class Person:\n",
        "    # Class attributes (shared by all instances unless overridden)\n",
        "    name = \"KKishan\"\n",
        "    occupation = \"Software Developer\"\n",
        "    networth = 10000\n",
        "\n",
        "    # Method (function associated with the class)\n",
        "    def info(self):\n",
        "        print(f\"{self.name} is a {self.occupation}\")\n",
        "\n",
        "# Creating instances (objects) of the Person class\n",
        "a = Person()  # First person object\n",
        "a.name = \"Ekus\"  # Modifying attribute for this specific instance\n",
        "a.occupation = \"Business Owner\"\n",
        "\n",
        "b = Person()  # Second person object\n",
        "b.name = \"Harshit\"\n",
        "b.occupation = \"Chartered Accountant\"\n",
        "\n",
        "# Calling the info() method on each object\n",
        "a.info()  # Output: Ekus is a Business Owner\n",
        "b.info()  # Output: Harshit is a Chartered Accountant\n"
      ]
    }
  ]
}