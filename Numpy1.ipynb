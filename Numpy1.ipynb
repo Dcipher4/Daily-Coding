{
  "nbformat": 4,
  "nbformat_minor": 0,
  "metadata": {
    "colab": {
      "provenance": [],
      "authorship_tag": "ABX9TyPRIyX57hzzg1WjDQKsyXAN",
      "include_colab_link": true
    },
    "kernelspec": {
      "name": "python3",
      "display_name": "Python 3"
    },
    "language_info": {
      "name": "python"
    }
  },
  "cells": [
    {
      "cell_type": "markdown",
      "metadata": {
        "id": "view-in-github",
        "colab_type": "text"
      },
      "source": [
        "<a href=\"https://colab.research.google.com/github/Dcipher4/Daily-Coding/blob/main/Numpy1.ipynb\" target=\"_parent\"><img src=\"https://colab.research.google.com/assets/colab-badge.svg\" alt=\"Open In Colab\"/></a>"
      ]
    },
    {
      "cell_type": "code",
      "execution_count": null,
      "metadata": {
        "colab": {
          "base_uri": "https://localhost:8080/"
        },
        "id": "bkPdTT0IO4y7",
        "outputId": "6950054e-9139-4905-d9aa-2bfed308ce10"
      },
      "outputs": [
        {
          "output_type": "stream",
          "name": "stdout",
          "text": [
            "2.0.2\n",
            "[1.  3.  5.  7.  9.  2.  4.  6.  8.4]\n",
            "<class 'numpy.ndarray'>\n",
            "float64\n"
          ]
        }
      ],
      "source": [
        "import numpy as np\n",
        "print(np.__version__)\n",
        "\n",
        "# array = (1 ,3, 5, 7, 9, 2, 4, 6, 8)\n",
        "array = np.array ((1 ,3, 5, 7, 9, 2, 4, 6, 8.4))\n",
        "print(array)\n",
        "print(type(array))\n",
        "print(array.dtype)\n"
      ]
    },
    {
      "cell_type": "code",
      "source": [
        "import numpy as np\n",
        "print(np.__version__)\n",
        "\n",
        "array = np.array((1 ,3, 5, 7, 9, 2, 4, 6, 8))\n",
        "# array = np.array ((1 ,3, 5, 7, 9, 2, 4, 6, 8.4))\n",
        "print(array)\n",
        "print(type(array))\n",
        "print(array.dtype)\n"
      ],
      "metadata": {
        "colab": {
          "base_uri": "https://localhost:8080/"
        },
        "id": "cCWf1IQcPalv",
        "outputId": "8fcf12d0-588f-4986-9617-7901ed26851c"
      },
      "execution_count": null,
      "outputs": [
        {
          "output_type": "stream",
          "name": "stdout",
          "text": [
            "2.0.2\n",
            "[1 3 5 7 9 2 4 6 8]\n",
            "<class 'numpy.ndarray'>\n",
            "int64\n"
          ]
        }
      ]
    },
    {
      "cell_type": "code",
      "source": [
        "import numpy as np\n",
        "print(np.__version__)\n",
        "\n",
        "array = np.array((1 ,3, 5, 7, 9, 2, 4, 6, 8), dtype = 'float')\n",
        "# array = np.array ((1 ,3, 5, 7, 9, 2, 4, 6, 8.4))\n",
        "print(array)\n",
        "print(type(array))\n",
        "print(array.dtype)"
      ],
      "metadata": {
        "colab": {
          "base_uri": "https://localhost:8080/"
        },
        "id": "yld79A2aRNhi",
        "outputId": "4bb330c4-7775-4592-dc0e-5a123bc6f72d"
      },
      "execution_count": null,
      "outputs": [
        {
          "output_type": "stream",
          "name": "stdout",
          "text": [
            "2.0.2\n",
            "[1. 3. 5. 7. 9. 2. 4. 6. 8.]\n",
            "<class 'numpy.ndarray'>\n",
            "float64\n"
          ]
        }
      ]
    },
    {
      "cell_type": "code",
      "source": [
        "# now lkets create a 2d array\n",
        "arr = np.array ([[10,20,30,40],[15,25,35,45]], dtype = 'float')\n",
        "print (arr)\n",
        "print(type(arr))\n",
        "print(arr.dtype)\n",
        "print(arr[0,1])\n"
      ],
      "metadata": {
        "id": "mjdY8UsmRdT7",
        "colab": {
          "base_uri": "https://localhost:8080/"
        },
        "outputId": "7c9e78de-03be-451e-b71a-f17996048d37"
      },
      "execution_count": null,
      "outputs": [
        {
          "output_type": "stream",
          "name": "stdout",
          "text": [
            "[[10. 20. 30. 40.]\n",
            " [15. 25. 35. 45.]]\n",
            "<class 'numpy.ndarray'>\n",
            "float64\n",
            "20.0\n"
          ]
        }
      ]
    },
    {
      "cell_type": "code",
      "source": [
        "import numpy as np  # First, we bring in NumPy—it’s a must for working with arrays.\n",
        "\n",
        "# Here’s our 3D array. Think of it as a stack of 2D grids.\n",
        "arr3d = np.array([\n",
        "    [[10, 20, 30], [40, 50, 60]],\n",
        "    [[11, 21, 31], [41, 51, 61]],\n",
        "    [[12, 22, 32], [42, 52, 62]]\n",
        "])\n",
        "\n",
        "print(arr3d)  # Just checking out the whole array.\n",
        "\n",
        "# Grabbing specific elements based on their positions.\n",
        "print(arr3d[0, 1, 2])  # Picks the element at row 0, sub-row 1, position 2 (should be 60).\n",
        "print(arr3d.shape)  # Shape tells us the array dimensions. (3 layers, 2 rows, 3 columns)\n",
        "print(arr3d[2, 1, 2])  # Another lookup—row 2, sub-row 1, position 2 (should be 62).\n",
        "\n",
        "# Some basic stats—useful for quick data analysis.\n",
        "print(np.sum(arr3d))  # Total sum of all elements.\n",
        "print(np.median(arr3d))  # Middle value if you sorted everything.\n",
        "print(np.mean(arr3d))  # Average of all values.\n",
        "print(np.std(arr3d))  # Standard deviation—how spread out the numbers are.\n",
        "print(np.var(arr3d))  # Variance—another way to measure spread.\n",
        "\n",
        "# Finding the extremes in the array.\n",
        "print(np.min(arr3d))  # The smallest number in our dataset.\n",
        "print(np.max(arr3d))  # The biggest one.\n",
        "print(np.argmin(arr3d))  # Index position of the smallest value.\n",
        "print(np.argmax(arr3d))  # Index position of the largest value.\n",
        "\n",
        "# Sorting and transforming the array.\n",
        "print(np.sort(arr3d))  # Sorts each row separately—doesn’t mess up the structure.\n",
        "print(np.prod(arr3d))  # Multiplies all elements together.\n",
        "\n",
        "# Cumulative operations—useful for running totals or progressive calculations.\n",
        "print(np.cumsum(arr3d))  # Adds up numbers step by step.\n",
        "print(np.cumprod(arr3d))  # Keeps multiplying numbers progressively.\n",
        "\n",
        "# Some handy functions for analyzing patterns.\n",
        "print(np.unique(arr3d))  # Removes duplicates—gives you the distinct values.\n",
        "print(np.diff(arr3d))  # Shows how much each element changes compared to the previous one.\n",
        "\n",
        "# Playing with the shape and order of the array.\n",
        "print(np.flip(arr3d))  # Completely flips the array—like turning a photo upside down.\n",
        "print(np.flip(arr3d, axis=0))  # Flips along the first axis—changes the order of layers.\n",
        "\n",
        "# Identifying non-zero values.\n",
        "print(np.nonzero(arr3d))  # Tells you the positions of all non-zero elements\n",
        "\n",
        "\n",
        "\n",
        "\n",
        "\n",
        "# the comments were written by an AI to help me understand the codes later on"
      ],
      "metadata": {
        "id": "ZDqpynORVNez",
        "colab": {
          "base_uri": "https://localhost:8080/"
        },
        "outputId": "e7553ccb-ddf1-4372-a97a-9d8d92ec1e32"
      },
      "execution_count": 27,
      "outputs": [
        {
          "output_type": "stream",
          "name": "stdout",
          "text": [
            "[[[10 20 30]\n",
            "  [40 50 60]]\n",
            "\n",
            " [[11 21 31]\n",
            "  [41 51 61]]\n",
            "\n",
            " [[12 22 32]\n",
            "  [42 52 62]]]\n",
            "60\n",
            "(3, 2, 3)\n",
            "62\n",
            "648\n",
            "36.0\n",
            "36.0\n",
            "17.09775813764288\n",
            "292.3333333333333\n",
            "10\n",
            "62\n",
            "0\n",
            "17\n",
            "[[[10 20 30]\n",
            "  [40 50 60]]\n",
            "\n",
            " [[11 21 31]\n",
            "  [41 51 61]]\n",
            "\n",
            " [[12 22 32]\n",
            "  [42 52 62]]]\n",
            "4517244343857184768\n",
            "[ 10  30  60 100 150 210 221 242 273 314 365 426 438 460 492 534 586 648]\n",
            "[                  10                  200                 6000\n",
            "               240000             12000000            720000000\n",
            "           7920000000         166320000000        5155920000000\n",
            "      211392720000000    10781028720000000   657642751920000000\n",
            "  7891713023040000000  7596989843494035456  3296002033584963584\n",
            " -9141867179107942400  4238252602835337216  4517244343857184768]\n",
            "[10 11 12 20 21 22 30 31 32 40 41 42 50 51 52 60 61 62]\n",
            "[[[10 10]\n",
            "  [10 10]]\n",
            "\n",
            " [[10 10]\n",
            "  [10 10]]\n",
            "\n",
            " [[10 10]\n",
            "  [10 10]]]\n",
            "[[[62 52 42]\n",
            "  [32 22 12]]\n",
            "\n",
            " [[61 51 41]\n",
            "  [31 21 11]]\n",
            "\n",
            " [[60 50 40]\n",
            "  [30 20 10]]]\n",
            "[[[12 22 32]\n",
            "  [42 52 62]]\n",
            "\n",
            " [[11 21 31]\n",
            "  [41 51 61]]\n",
            "\n",
            " [[10 20 30]\n",
            "  [40 50 60]]]\n",
            "(array([0, 0, 0, 0, 0, 0, 1, 1, 1, 1, 1, 1, 2, 2, 2, 2, 2, 2]), array([0, 0, 0, 1, 1, 1, 0, 0, 0, 1, 1, 1, 0, 0, 0, 1, 1, 1]), array([0, 1, 2, 0, 1, 2, 0, 1, 2, 0, 1, 2, 0, 1, 2, 0, 1, 2]))\n"
          ]
        }
      ]
    },
    {
      "cell_type": "markdown",
      "source": [],
      "metadata": {
        "id": "sJcucLg3Uv9s"
      }
    }
  ]
}