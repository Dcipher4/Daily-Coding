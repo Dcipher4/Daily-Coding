{
  "nbformat": 4,
  "nbformat_minor": 0,
  "metadata": {
    "colab": {
      "provenance": [],
      "authorship_tag": "ABX9TyMXtqiMW43wuXmjcabZiuez",
      "include_colab_link": true
    },
    "kernelspec": {
      "name": "python3",
      "display_name": "Python 3"
    },
    "language_info": {
      "name": "python"
    }
  },
  "cells": [
    {
      "cell_type": "markdown",
      "metadata": {
        "id": "view-in-github",
        "colab_type": "text"
      },
      "source": [
        "<a href=\"https://colab.research.google.com/github/Dcipher4/Daily-Coding/blob/main/Timer%20App.ipynb\" target=\"_parent\"><img src=\"https://colab.research.google.com/assets/colab-badge.svg\" alt=\"Open In Colab\"/></a>"
      ]
    },
    {
      "cell_type": "code",
      "execution_count": null,
      "metadata": {
        "colab": {
          "base_uri": "https://localhost:8080/"
        },
        "id": "mCnbOgCuVWSp",
        "outputId": "f949acb5-a48c-4d21-fcf0-a4a27bedb7d1"
      },
      "outputs": [
        {
          "output_type": "stream",
          "name": "stdout",
          "text": [
            "NO. of hour: 5\n",
            "NO. of mins: 2\n",
            "NO. of seconds: 4\n"
          ]
        }
      ],
      "source": [
        "# # timer app\n",
        "# import time\n",
        "\n",
        "# def countdown(seconds):\n",
        "#     while seconds:\n",
        "#         mins, secs = divmod(seconds, 60)\n",
        "#         timer = f'{mins:02d}:{secs:02d}'\n",
        "#         print(timer, end=\"\\r\")\n",
        "#         time.sleep(1)\n",
        "#         seconds -= 1\n",
        "\n",
        "#     print(\"Time's up!\")\n",
        "\n",
        "# # Set timer for 1 hour (3600 seconds)\n",
        "# countdown(3600)\n",
        "\n",
        "# import time\n",
        "\n",
        "# def countdown( seconds):\n",
        "#     while seconds:\n",
        "#         mins, secs = divmod(seconds, 60)\n",
        "#         timer = f'{mins:02d}:{secs:02d}'\n",
        "#         print(timer, end=\"/r\")\n",
        "#         time.sleep(1)\n",
        "#         seconds -= 1\n",
        "\n",
        "# #     print (\"time's up\")\n",
        "\n",
        "# # countdown(3600)\n",
        "# import time\n",
        "\n",
        "# def countdown(seconds):\n",
        "#     while seconds:\n",
        "#         mins, secs = divmod(seconds, 60)\n",
        "#         timer = f'{mins:02d}:{secs:02d}'\n",
        "#         print(timer, end=\"\\r\")\n",
        "#         time.sleep(1)\n",
        "#         seconds -= 1\n",
        "\n",
        "#     print(\"Time's up!\")\n",
        "\n",
        "# # Set timer for 1 hour (3600 seconds)\n",
        "# countdown(3600)\n",
        "\n",
        "import time\n",
        "\n",
        "userinput1 = int(input(\"NO. of hour: \"))\n",
        "userinput2 = int(input(\"NO. of mins: \"))\n",
        "userinput3 = int(input(\"NO. of seconds: \"))\n",
        "x = 24*60*60\n",
        "y = 60*60\n",
        "\n",
        "z = (userinput1*x) + (userinput2*y) +(userinput3)\n",
        "\n",
        "# def countdown (seconds):\n",
        "#     while seconds:\n",
        "#         hours, mins, secs = divmod({hours, 24*3600}, {mins, 3600}, {seconds, 60})\n",
        "#         timer = f'{hours: 02d} : {mins: 02d} : {secs: 02d}'\n",
        "#         print timer, end= \"\\r\"\n",
        "#         time.sleep(1)\n",
        "#         seconds = -1\n",
        "#     print (\"Timer Up\")\n",
        "\n",
        "# countdown(z)\n",
        "def countdown (seconds):\n",
        "    while seconds:\n",
        "        hours, remainder = divmod(seconds, 3600)\n",
        "        mins, secs = divmod(remainder, 60)\n",
        "        timer = f'{hours: 02d} : {mins: 02d} : {secs: 02d}'\n",
        "        print(timer, end= \"\\r\")\n",
        "        time.sleep(1)\n",
        "        seconds -= 1\n",
        "\n",
        "    print (\"time's up\")\n",
        "\n",
        "countdown(z)\n"
      ]
    }
  ]
}