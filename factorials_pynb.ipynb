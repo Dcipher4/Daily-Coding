{
  "nbformat": 4,
  "nbformat_minor": 0,
  "metadata": {
    "colab": {
      "provenance": [],
      "authorship_tag": "ABX9TyN+jPxSkST1kfhS6sWBLgEr",
      "include_colab_link": true
    },
    "kernelspec": {
      "name": "python3",
      "display_name": "Python 3"
    },
    "language_info": {
      "name": "python"
    }
  },
  "cells": [
    {
      "cell_type": "markdown",
      "metadata": {
        "id": "view-in-github",
        "colab_type": "text"
      },
      "source": [
        "<a href=\"https://colab.research.google.com/github/Dcipher4/Daily-Coding/blob/main/factorials_pynb.ipynb\" target=\"_parent\"><img src=\"https://colab.research.google.com/assets/colab-badge.svg\" alt=\"Open In Colab\"/></a>"
      ]
    },
    {
      "cell_type": "code",
      "source": [
        "1#Program to find factorial of a number\n",
        "num = int (input(\"Enter you no here: \"))\n",
        "f = 1\n",
        "for i in range(1, num+1):\n",
        "  f = f*i\n",
        "print(\"Factorial of\", num, \"is\", f)"
      ],
      "metadata": {
        "colab": {
          "base_uri": "https://localhost:8080/"
        },
        "id": "dpzwLq244nur",
        "outputId": "6c08698f-1641-4904-eb57-27d8449aae37"
      },
      "execution_count": null,
      "outputs": [
        {
          "output_type": "stream",
          "name": "stdout",
          "text": [
            "Enter you no here: 5\n",
            "Factorial of 5 is 120\n"
          ]
        }
      ]
    }
  ]
}