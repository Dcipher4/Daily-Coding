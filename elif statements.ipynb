{
  "nbformat": 4,
  "nbformat_minor": 0,
  "metadata": {
    "colab": {
      "provenance": [],
      "authorship_tag": "ABX9TyOwwBXN3yYvQKYJb5QgOBsV",
      "include_colab_link": true
    },
    "kernelspec": {
      "name": "python3",
      "display_name": "Python 3"
    },
    "language_info": {
      "name": "python"
    }
  },
  "cells": [
    {
      "cell_type": "markdown",
      "metadata": {
        "id": "view-in-github",
        "colab_type": "text"
      },
      "source": [
        "<a href=\"https://colab.research.google.com/github/Dcipher4/Daily-Coding/blob/main/elif%20statements.ipynb\" target=\"_parent\"><img src=\"https://colab.research.google.com/assets/colab-badge.svg\" alt=\"Open In Colab\"/></a>"
      ]
    },
    {
      "cell_type": "code",
      "execution_count": 6,
      "metadata": {
        "colab": {
          "base_uri": "https://localhost:8080/"
        },
        "id": "o5TJ4wvY9ywH",
        "outputId": "2abc6e08-0948-4f7d-e962-a8ca3a76f6d6"
      },
      "outputs": [
        {
          "output_type": "stream",
          "name": "stdout",
          "text": [
            "Users number is: 23\n",
            "Number is positive.\n",
            "Enter another No: 24\n",
            "num is +ve\n",
            "YAyy\n"
          ]
        }
      ],
      "source": [
        "a = int(input(\"Users number is: \"))\n",
        "if (a < 0):\n",
        "    print(\"Number is negative.\")\n",
        "elif (a == 0):\n",
        "    print(\"Number is Zero.\")\n",
        "else:\n",
        "    print(\"Number is positive.\")\n",
        "\n",
        "num = int(input(\"Enter another No: \"))\n",
        "\n",
        "if  (num == a):\n",
        "    print(\"You have fed in the same number goofy!\")\n",
        "elif (num == 0):\n",
        "    print(\"num is zero\")\n",
        "elif (num == -999):\n",
        "    print(\"number is special\")\n",
        "elif (num > 0):\n",
        "    print(\"num is +ve\")\n",
        "else:\n",
        "    print(\"Num is negative\")\n",
        "print (\"YAyy\")"
      ]
    }
  ]
}