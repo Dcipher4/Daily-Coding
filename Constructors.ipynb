{
  "nbformat": 4,
  "nbformat_minor": 0,
  "metadata": {
    "colab": {
      "provenance": [],
      "authorship_tag": "ABX9TyOuM6iNEevrJfBqosgFI6Mo",
      "include_colab_link": true
    },
    "kernelspec": {
      "name": "python3",
      "display_name": "Python 3"
    },
    "language_info": {
      "name": "python"
    }
  },
  "cells": [
    {
      "cell_type": "markdown",
      "metadata": {
        "id": "view-in-github",
        "colab_type": "text"
      },
      "source": [
        "<a href=\"https://colab.research.google.com/github/Dcipher4/Daily-Coding/blob/main/Constructors.ipynb\" target=\"_parent\"><img src=\"https://colab.research.google.com/assets/colab-badge.svg\" alt=\"Open In Colab\"/></a>"
      ]
    },
    {
      "cell_type": "code",
      "execution_count": null,
      "metadata": {
        "id": "jRGOwTTwjADu"
      },
      "outputs": [],
      "source": [
        "class Person:\n",
        "    def __init__(self, n, o):\n",
        "        print(\"Hey I am a person\")\n",
        "        self.name = n\n",
        "        self.age = 18\n",
        "\n",
        "    def info(self):\n",
        "        print(f\"{self.name} is a {self.age} year old\")\n",
        "\n",
        "a = Person(\"KKishan\", 29)\n",
        "b = Person(\"Kaur\", 26)\n",
        "c = Person(\"Khushboo\", 24)\n",
        "a.info()\n",
        "b.info()\n",
        "# a.info()\n",
        "# a.name = \"Kaur\"\n",
        "# a.Occupation = \"Private Equity Manager\"\n",
        "# a.info()\n"
      ]
    }
  ]
}