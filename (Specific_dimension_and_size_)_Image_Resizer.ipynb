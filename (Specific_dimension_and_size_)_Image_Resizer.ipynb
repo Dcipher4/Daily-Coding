{
  "nbformat": 4,
  "nbformat_minor": 0,
  "metadata": {
    "colab": {
      "provenance": [],
      "authorship_tag": "ABX9TyMoacV/bC3deFwlQ6R+bN8S",
      "include_colab_link": true
    },
    "kernelspec": {
      "name": "python3",
      "display_name": "Python 3"
    },
    "language_info": {
      "name": "python"
    }
  },
  "cells": [
    {
      "cell_type": "markdown",
      "metadata": {
        "id": "view-in-github",
        "colab_type": "text"
      },
      "source": [
        "<a href=\"https://colab.research.google.com/github/Dcipher4/Daily-Coding/blob/main/(Specific_dimension_and_size_)_Image_Resizer.ipynb\" target=\"_parent\"><img src=\"https://colab.research.google.com/assets/colab-badge.svg\" alt=\"Open In Colab\"/></a>"
      ]
    },
    {
      "cell_type": "code",
      "execution_count": null,
      "metadata": {
        "id": "_Xf_j9t_TueW"
      },
      "outputs": [],
      "source": [
        "from PIL import Image\n",
        "import io\n",
        "import sys\n",
        "import os\n",
        "\n",
        "def convert_image(input_path, output_path):\n",
        "    target_width = 709\n",
        "    target_height = 236\n",
        "\n",
        "    try:\n",
        "        img = Image.open(input_path)\n",
        "        if img.mode != 'RGB':\n",
        "            img = img.convert('RGB')\n",
        "    except Exception as e:\n",
        "        print(f\"Error opening image: {e}\")\n",
        "        return False\n",
        "\n",
        "    current_width, current_height = img.size\n",
        "    scale = min(target_width / current_width, target_height / current_height)\n",
        "    new_width = int(current_width * scale)\n",
        "    new_height = int(current_height * scale)\n",
        "    resized_img = img.resize((new_width, new_height), Image.LANCZOS)\n",
        "\n",
        "    new_img = Image.new('RGB', (target_width, target_height), (255, 255, 255))\n",
        "    x_offset = (target_width - new_width) // 2\n",
        "    y_offset = (target_height - new_height) // 2\n",
        "    new_img.paste(resized_img, (x_offset, y_offset))\n",
        "\n",
        "    min_size = 10 * 1024\n",
        "    max_size = 20 * 1024\n",
        "    jpeg_data = None\n",
        "\n",
        "    for quality in range(100, 0, -5):\n",
        "        buffer = io.BytesIO()\n",
        "        new_img.save(buffer, format='JPEG', quality=quality)\n",
        "        size = buffer.tell()\n",
        "        if size <= max_size:\n",
        "            jpeg_data = buffer.getvalue()\n",
        "            if size >= min_size:\n",
        "                break\n",
        "\n",
        "    if jpeg_data is None:\n",
        "        buffer = io.BytesIO()\n",
        "        new_img.save(buffer, format='JPEG', quality=1)\n",
        "        jpeg_data = buffer.getvalue()\n",
        "        print(\"Warning: Could not achieve file size below 20 KB. Using lowest quality.\")\n",
        "\n",
        "    try:\n",
        "        with open(output_path, 'wb') as f:\n",
        "            f.write(jpeg_data)\n",
        "        return True\n",
        "    except Exception as e:\n",
        "        print(f\"Error saving image: {e}\")\n",
        "        return False\n",
        "\n",
        "if __name__ == \"__main__\":\n",
        "    input_path = r\"C:\\Users\\Admin\\OneDrive\\Desktop\\1728823438402-bccadaf6-f4ac-4494-ab07-3e7e0c3dfece_1.jpg\"\n",
        "    output_path = r\"C:\\Users\\Admin\\OneDrive\\Desktop\\sign.jpg\"\n",
        "\n",
        "    if not os.path.isfile(input_path):\n",
        "        print(f\"Error: Input file '{input_path}' not found.\")\n",
        "        sys.exit(1)\n",
        "\n",
        "    success = convert_image(input_path, output_path)\n",
        "    if success:\n",
        "        print(f\"Image converted successfully: {output_path}\")\n",
        "    else:\n",
        "        print(\"Conversion failed.\")\n",
        "        sys.exit(1)"
      ]
    }
  ]
}